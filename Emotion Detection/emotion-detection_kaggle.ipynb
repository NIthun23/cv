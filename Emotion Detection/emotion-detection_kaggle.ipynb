{
 "cells": [
  {
   "cell_type": "code",
   "execution_count": 1,
   "id": "optional-franklin",
   "metadata": {
    "_cell_guid": "b1076dfc-b9ad-4769-8c92-a6c4dae69d19",
    "_uuid": "8f2839f25d086af736a60e9eeb907d3b93b6e0e5",
    "execution": {
     "iopub.execute_input": "2021-06-09T08:27:50.968761Z",
     "iopub.status.busy": "2021-06-09T08:27:50.968254Z",
     "iopub.status.idle": "2021-06-09T08:27:50.985890Z",
     "shell.execute_reply": "2021-06-09T08:27:50.985427Z"
    },
    "papermill": {
     "duration": 0.051532,
     "end_time": "2021-06-09T08:27:50.986025",
     "exception": false,
     "start_time": "2021-06-09T08:27:50.934493",
     "status": "completed"
    },
    "tags": []
   },
   "outputs": [
    {
     "name": "stdout",
     "output_type": "stream",
     "text": [
      "/kaggle/input/facialexpressionrecognition/fer2013.csv\n",
      "/kaggle/input/this-cascade/haarcascade_frontalface_default.xml\n"
     ]
    }
   ],
   "source": [
    "# This Python 3 environment comes with many helpful analytics libraries installed\n",
    "# It is defined by the kaggle/python Docker image: https://github.com/kaggle/docker-python\n",
    "# For example, here's several helpful packages to load\n",
    "\n",
    "import numpy as np # linear algebra\n",
    "import pandas as pd # data processing, CSV file I/O (e.g. pd.read_csv)\n",
    "\n",
    "# Input data files are available in the read-only \"../input/\" directory\n",
    "# For example, running this (by clicking run or pressing Shift+Enter) will list all files under the input directory\n",
    "\n",
    "import os\n",
    "for dirname, _, filenames in os.walk('/kaggle/input'):\n",
    "    for filename in filenames:\n",
    "        print(os.path.join(dirname, filename))\n",
    "\n",
    "# You can write up to 20GB to the current directory (/kaggle/working/) that gets preserved as output when you create a version using \"Save & Run All\" \n",
    "# You can also write temporary files to /kaggle/temp/, but they won't be saved outside of the current session"
   ]
  },
  {
   "cell_type": "code",
   "execution_count": 2,
   "id": "billion-decision",
   "metadata": {
    "execution": {
     "iopub.execute_input": "2021-06-09T08:27:51.036431Z",
     "iopub.status.busy": "2021-06-09T08:27:51.035800Z",
     "iopub.status.idle": "2021-06-09T08:27:55.808178Z",
     "shell.execute_reply": "2021-06-09T08:27:55.807310Z",
     "shell.execute_reply.started": "2021-06-09T07:17:32.803392Z"
    },
    "papermill": {
     "duration": 4.799037,
     "end_time": "2021-06-09T08:27:55.808330",
     "exception": false,
     "start_time": "2021-06-09T08:27:51.009293",
     "status": "completed"
    },
    "tags": []
   },
   "outputs": [],
   "source": [
    "import pandas as pd\n",
    "import numpy as np\n",
    "import os\n",
    "import matplotlib.pyplot as plt\n",
    "\n",
    "from sklearn.metrics import confusion_matrix\n",
    "from mlxtend.plotting import plot_confusion_matrix\n",
    "\n",
    "from keras import models\n",
    "from keras.layers import Dense, Dropout, Flatten, Conv2D, MaxPool2D, BatchNormalization\n",
    "from keras.optimizers import RMSprop,Adam\n",
    "from keras.utils import to_categorical"
   ]
  },
  {
   "cell_type": "code",
   "execution_count": 3,
   "id": "expressed-kansas",
   "metadata": {
    "execution": {
     "iopub.execute_input": "2021-06-09T08:27:55.858924Z",
     "iopub.status.busy": "2021-06-09T08:27:55.858148Z",
     "iopub.status.idle": "2021-06-09T08:27:55.864289Z",
     "shell.execute_reply": "2021-06-09T08:27:55.864710Z",
     "shell.execute_reply.started": "2021-06-09T07:17:50.247104Z"
    },
    "papermill": {
     "duration": 0.033293,
     "end_time": "2021-06-09T08:27:55.864835",
     "exception": false,
     "start_time": "2021-06-09T08:27:55.831542",
     "status": "completed"
    },
    "tags": []
   },
   "outputs": [
    {
     "data": {
      "text/plain": [
       "['fer2013.csv']"
      ]
     },
     "execution_count": 3,
     "metadata": {},
     "output_type": "execute_result"
    }
   ],
   "source": [
    "path = '../input/facialexpressionrecognition/'\n",
    "os.listdir(path)"
   ]
  },
  {
   "cell_type": "code",
   "execution_count": 4,
   "id": "configured-charter",
   "metadata": {
    "execution": {
     "iopub.execute_input": "2021-06-09T08:27:55.915090Z",
     "iopub.status.busy": "2021-06-09T08:27:55.914600Z",
     "iopub.status.idle": "2021-06-09T08:28:01.070270Z",
     "shell.execute_reply": "2021-06-09T08:28:01.069780Z",
     "shell.execute_reply.started": "2021-06-09T07:17:52.794335Z"
    },
    "papermill": {
     "duration": 5.182741,
     "end_time": "2021-06-09T08:28:01.070394",
     "exception": false,
     "start_time": "2021-06-09T08:27:55.887653",
     "status": "completed"
    },
    "tags": []
   },
   "outputs": [],
   "source": [
    "data = pd.read_csv(path + 'fer2013.csv')"
   ]
  },
  {
   "cell_type": "code",
   "execution_count": 5,
   "id": "incorporate-johnston",
   "metadata": {
    "execution": {
     "iopub.execute_input": "2021-06-09T08:28:01.130343Z",
     "iopub.status.busy": "2021-06-09T08:28:01.129790Z",
     "iopub.status.idle": "2021-06-09T08:28:01.138580Z",
     "shell.execute_reply": "2021-06-09T08:28:01.138149Z",
     "shell.execute_reply.started": "2021-06-09T07:17:59.927935Z"
    },
    "papermill": {
     "duration": 0.044852,
     "end_time": "2021-06-09T08:28:01.138686",
     "exception": false,
     "start_time": "2021-06-09T08:28:01.093834",
     "status": "completed"
    },
    "tags": []
   },
   "outputs": [
    {
     "data": {
      "text/html": [
       "<div>\n",
       "<style scoped>\n",
       "    .dataframe tbody tr th:only-of-type {\n",
       "        vertical-align: middle;\n",
       "    }\n",
       "\n",
       "    .dataframe tbody tr th {\n",
       "        vertical-align: top;\n",
       "    }\n",
       "\n",
       "    .dataframe thead th {\n",
       "        text-align: right;\n",
       "    }\n",
       "</style>\n",
       "<table border=\"1\" class=\"dataframe\">\n",
       "  <thead>\n",
       "    <tr style=\"text-align: right;\">\n",
       "      <th></th>\n",
       "      <th>emotion</th>\n",
       "      <th>pixels</th>\n",
       "      <th>Usage</th>\n",
       "    </tr>\n",
       "  </thead>\n",
       "  <tbody>\n",
       "    <tr>\n",
       "      <th>0</th>\n",
       "      <td>0</td>\n",
       "      <td>70 80 82 72 58 58 60 63 54 58 60 48 89 115 121...</td>\n",
       "      <td>Training</td>\n",
       "    </tr>\n",
       "    <tr>\n",
       "      <th>1</th>\n",
       "      <td>0</td>\n",
       "      <td>151 150 147 155 148 133 111 140 170 174 182 15...</td>\n",
       "      <td>Training</td>\n",
       "    </tr>\n",
       "    <tr>\n",
       "      <th>2</th>\n",
       "      <td>2</td>\n",
       "      <td>231 212 156 164 174 138 161 173 182 200 106 38...</td>\n",
       "      <td>Training</td>\n",
       "    </tr>\n",
       "    <tr>\n",
       "      <th>3</th>\n",
       "      <td>4</td>\n",
       "      <td>24 32 36 30 32 23 19 20 30 41 21 22 32 34 21 1...</td>\n",
       "      <td>Training</td>\n",
       "    </tr>\n",
       "    <tr>\n",
       "      <th>4</th>\n",
       "      <td>6</td>\n",
       "      <td>4 0 0 0 0 0 0 0 0 0 0 0 3 15 23 28 48 50 58 84...</td>\n",
       "      <td>Training</td>\n",
       "    </tr>\n",
       "  </tbody>\n",
       "</table>\n",
       "</div>"
      ],
      "text/plain": [
       "   emotion                                             pixels     Usage\n",
       "0        0  70 80 82 72 58 58 60 63 54 58 60 48 89 115 121...  Training\n",
       "1        0  151 150 147 155 148 133 111 140 170 174 182 15...  Training\n",
       "2        2  231 212 156 164 174 138 161 173 182 200 106 38...  Training\n",
       "3        4  24 32 36 30 32 23 19 20 30 41 21 22 32 34 21 1...  Training\n",
       "4        6  4 0 0 0 0 0 0 0 0 0 0 0 3 15 23 28 48 50 58 84...  Training"
      ]
     },
     "execution_count": 5,
     "metadata": {},
     "output_type": "execute_result"
    }
   ],
   "source": [
    "data.head()"
   ]
  },
  {
   "cell_type": "code",
   "execution_count": 6,
   "id": "transparent-margin",
   "metadata": {
    "execution": {
     "iopub.execute_input": "2021-06-09T08:28:01.204874Z",
     "iopub.status.busy": "2021-06-09T08:28:01.203663Z",
     "iopub.status.idle": "2021-06-09T08:28:01.205879Z",
     "shell.execute_reply": "2021-06-09T08:28:01.206318Z",
     "shell.execute_reply.started": "2021-06-09T07:18:03.220190Z"
    },
    "papermill": {
     "duration": 0.044263,
     "end_time": "2021-06-09T08:28:01.206433",
     "exception": false,
     "start_time": "2021-06-09T08:28:01.162170",
     "status": "completed"
    },
    "tags": []
   },
   "outputs": [],
   "source": [
    "def prepare_data(data):\n",
    "    \"\"\" Prepare data for modeling \n",
    "        input: data frame with labels und pixel data\n",
    "        output: image and label array \"\"\"\n",
    "    \n",
    "    image_array = np.zeros(shape=(len(data), 48, 48))\n",
    "    image_label = np.array(list(map(int, data['emotion'])))\n",
    "    \n",
    "    for i, row in enumerate(data.index):\n",
    "        image = np.fromstring(data.loc[row, 'pixels'], dtype=int, sep=' ')\n",
    "        image = np.reshape(image, (48, 48))\n",
    "        image_array[i] = image\n",
    "        \n",
    "    return image_array, image_label\n",
    "\n",
    "def plot_examples(label=0):\n",
    "    fig, axs = plt.subplots(1, 5, figsize=(25, 12))\n",
    "    fig.subplots_adjust(hspace = .2, wspace=.2)\n",
    "    axs = axs.ravel()\n",
    "    for i in range(5):\n",
    "        idx = data[data['emotion']==label].index[i]\n",
    "        axs[i].imshow(train_images[idx][:,:,0], cmap='gray')\n",
    "        axs[i].set_title(emotions[train_labels[idx].argmax()])\n",
    "        axs[i].set_xticklabels([])\n",
    "        axs[i].set_yticklabels([])\n",
    "        \n",
    "def plot_all_emotions():\n",
    "    fig, axs = plt.subplots(1, 7, figsize=(30, 12))\n",
    "    fig.subplots_adjust(hspace = .2, wspace=.2)\n",
    "    axs = axs.ravel()\n",
    "    for i in range(7):\n",
    "        idx = data[data['emotion']==i].index[i]\n",
    "        axs[i].imshow(train_images[idx][:,:,0], cmap='gray')\n",
    "        axs[i].set_title(emotions[train_labels[idx].argmax()])\n",
    "        axs[i].set_xticklabels([])\n",
    "        axs[i].set_yticklabels([])\n",
    "        \n",
    "def plot_image_and_emotion(test_image_array, test_image_label, pred_test_labels, image_number):\n",
    "    \"\"\" Function to plot the image and compare the prediction results with the label \"\"\"\n",
    "    \n",
    "    fig, axs = plt.subplots(1, 2, figsize=(12, 6), sharey=False)\n",
    "    \n",
    "    bar_label = emotions.values()\n",
    "    \n",
    "    axs[0].imshow(test_image_array[image_number], 'gray')\n",
    "    axs[0].set_title(emotions[test_image_label[image_number]])\n",
    "    \n",
    "    axs[1].bar(bar_label, pred_test_labels[image_number], color='orange', alpha=0.7)\n",
    "    axs[1].grid()\n",
    "    \n",
    "    plt.show()\n",
    "    \n",
    "def plot_compare_distributions(array1, array2, title1='', title2=''):\n",
    "    df_array1 = pd.DataFrame()\n",
    "    df_array2 = pd.DataFrame()\n",
    "    df_array1['emotion'] = array1.argmax(axis=1)\n",
    "    df_array2['emotion'] = array2.argmax(axis=1)\n",
    "    \n",
    "    fig, axs = plt.subplots(1, 2, figsize=(12, 6), sharey=False)\n",
    "    x = emotions.values()\n",
    "    \n",
    "    y = df_array1['emotion'].value_counts()\n",
    "    keys_missed = list(set(emotions.keys()).difference(set(y.keys())))\n",
    "    for key_missed in keys_missed:\n",
    "        y[key_missed] = 0\n",
    "    axs[0].bar(x, y.sort_index(), color='orange')\n",
    "    axs[0].set_title(title1)\n",
    "    axs[0].grid()\n",
    "    \n",
    "    y = df_array2['emotion'].value_counts()\n",
    "    keys_missed = list(set(emotions.keys()).difference(set(y.keys())))\n",
    "    for key_missed in keys_missed:\n",
    "        y[key_missed] = 0\n",
    "    axs[1].bar(x, y.sort_index())\n",
    "    axs[1].set_title(title2)\n",
    "    axs[1].grid()\n",
    "    \n",
    "    plt.show()"
   ]
  },
  {
   "cell_type": "code",
   "execution_count": 7,
   "id": "editorial-boutique",
   "metadata": {
    "execution": {
     "iopub.execute_input": "2021-06-09T08:28:01.267121Z",
     "iopub.status.busy": "2021-06-09T08:28:01.266570Z",
     "iopub.status.idle": "2021-06-09T08:28:01.269530Z",
     "shell.execute_reply": "2021-06-09T08:28:01.269916Z",
     "shell.execute_reply.started": "2021-06-09T07:18:10.153903Z"
    },
    "papermill": {
     "duration": 0.040382,
     "end_time": "2021-06-09T08:28:01.270028",
     "exception": false,
     "start_time": "2021-06-09T08:28:01.229646",
     "status": "completed"
    },
    "tags": []
   },
   "outputs": [
    {
     "data": {
      "text/plain": [
       "Training       28709\n",
       "PrivateTest     3589\n",
       "PublicTest      3589\n",
       "Name: Usage, dtype: int64"
      ]
     },
     "execution_count": 7,
     "metadata": {},
     "output_type": "execute_result"
    }
   ],
   "source": [
    "data['Usage'].value_counts()"
   ]
  },
  {
   "cell_type": "code",
   "execution_count": 8,
   "id": "athletic-mining",
   "metadata": {
    "execution": {
     "iopub.execute_input": "2021-06-09T08:28:01.322073Z",
     "iopub.status.busy": "2021-06-09T08:28:01.320920Z",
     "iopub.status.idle": "2021-06-09T08:28:01.323573Z",
     "shell.execute_reply": "2021-06-09T08:28:01.323149Z",
     "shell.execute_reply.started": "2021-06-09T07:18:41.346242Z"
    },
    "papermill": {
     "duration": 0.029894,
     "end_time": "2021-06-09T08:28:01.323671",
     "exception": false,
     "start_time": "2021-06-09T08:28:01.293777",
     "status": "completed"
    },
    "tags": []
   },
   "outputs": [],
   "source": [
    "emotions = {0: 'Angry', 1: 'Disgust', 2: 'Fear', 3: 'Happy', 4: 'Sad', 5: 'Surprise', 6: 'Neutral'}"
   ]
  },
  {
   "cell_type": "code",
   "execution_count": 9,
   "id": "leading-template",
   "metadata": {
    "execution": {
     "iopub.execute_input": "2021-06-09T08:28:01.378922Z",
     "iopub.status.busy": "2021-06-09T08:28:01.378185Z",
     "iopub.status.idle": "2021-06-09T08:28:04.534207Z",
     "shell.execute_reply": "2021-06-09T08:28:04.533706Z",
     "shell.execute_reply.started": "2021-06-09T07:18:44.726106Z"
    },
    "papermill": {
     "duration": 3.18714,
     "end_time": "2021-06-09T08:28:04.534343",
     "exception": false,
     "start_time": "2021-06-09T08:28:01.347203",
     "status": "completed"
    },
    "tags": []
   },
   "outputs": [],
   "source": [
    "train_image_array, train_image_label = prepare_data(data[data['Usage']=='Training'])\n",
    "val_image_array, val_image_label = prepare_data(data[data['Usage']=='PrivateTest'])\n",
    "test_image_array, test_image_label = prepare_data(data[data['Usage']=='PublicTest'])"
   ]
  },
  {
   "cell_type": "code",
   "execution_count": 10,
   "id": "important-conjunction",
   "metadata": {
    "execution": {
     "iopub.execute_input": "2021-06-09T08:28:04.587881Z",
     "iopub.status.busy": "2021-06-09T08:28:04.586935Z",
     "iopub.status.idle": "2021-06-09T08:28:04.747659Z",
     "shell.execute_reply": "2021-06-09T08:28:04.747176Z",
     "shell.execute_reply.started": "2021-06-09T07:18:51.578857Z"
    },
    "papermill": {
     "duration": 0.189537,
     "end_time": "2021-06-09T08:28:04.747777",
     "exception": false,
     "start_time": "2021-06-09T08:28:04.558240",
     "status": "completed"
    },
    "tags": []
   },
   "outputs": [],
   "source": [
    "train_images = train_image_array.reshape((train_image_array.shape[0], 48, 48, 1))\n",
    "train_images = train_images.astype('float32')/255\n",
    "val_images = val_image_array.reshape((val_image_array.shape[0], 48, 48, 1))\n",
    "val_images = val_images.astype('float32')/255\n",
    "test_images = test_image_array.reshape((test_image_array.shape[0], 48, 48, 1))\n",
    "test_images = test_images.astype('float32')/255"
   ]
  },
  {
   "cell_type": "code",
   "execution_count": 11,
   "id": "medium-crest",
   "metadata": {
    "execution": {
     "iopub.execute_input": "2021-06-09T08:28:04.799523Z",
     "iopub.status.busy": "2021-06-09T08:28:04.798772Z",
     "iopub.status.idle": "2021-06-09T08:28:04.802273Z",
     "shell.execute_reply": "2021-06-09T08:28:04.801866Z",
     "shell.execute_reply.started": "2021-06-09T07:18:54.281772Z"
    },
    "papermill": {
     "duration": 0.030713,
     "end_time": "2021-06-09T08:28:04.802375",
     "exception": false,
     "start_time": "2021-06-09T08:28:04.771662",
     "status": "completed"
    },
    "tags": []
   },
   "outputs": [],
   "source": [
    "train_labels = to_categorical(train_image_label)\n",
    "val_labels = to_categorical(val_image_label)\n",
    "test_labels = to_categorical(test_image_label)"
   ]
  },
  {
   "cell_type": "code",
   "execution_count": 12,
   "id": "secure-allen",
   "metadata": {
    "execution": {
     "iopub.execute_input": "2021-06-09T08:28:04.865384Z",
     "iopub.status.busy": "2021-06-09T08:28:04.852320Z",
     "iopub.status.idle": "2021-06-09T08:28:05.772918Z",
     "shell.execute_reply": "2021-06-09T08:28:05.773501Z",
     "shell.execute_reply.started": "2021-06-09T07:18:56.658226Z"
    },
    "papermill": {
     "duration": 0.947943,
     "end_time": "2021-06-09T08:28:05.773652",
     "exception": false,
     "start_time": "2021-06-09T08:28:04.825709",
     "status": "completed"
    },
    "tags": []
   },
   "outputs": [
    {
     "data": {
      "image/png": "[encoded data removed]",
      "text/plain": [
       "<Figure size 2160x864 with 7 Axes>"
      ]
     },
     "metadata": {
      "needs_background": "light"
     },
     "output_type": "display_data"
    }
   ],
   "source": [
    "plot_all_emotions()"
   ]
  },
  {
   "cell_type": "code",
   "execution_count": 13,
   "id": "figured-begin",
   "metadata": {
    "execution": {
     "iopub.execute_input": "2021-06-09T08:28:05.855745Z",
     "iopub.status.busy": "2021-06-09T08:28:05.839342Z",
     "iopub.status.idle": "2021-06-09T08:28:06.231892Z",
     "shell.execute_reply": "2021-06-09T08:28:06.232460Z",
     "shell.execute_reply.started": "2021-06-09T07:19:02.086341Z"
    },
    "papermill": {
     "duration": 0.432687,
     "end_time": "2021-06-09T08:28:06.232616",
     "exception": false,
     "start_time": "2021-06-09T08:28:05.799929",
     "status": "completed"
    },
    "tags": []
   },
   "outputs": [
    {
     "data": {
      "image/png": "[encoded data removed]",
      "text/plain": [
       "<Figure size 1800x864 with 5 Axes>"
      ]
     },
     "metadata": {
      "needs_background": "light"
     },
     "output_type": "display_data"
    }
   ],
   "source": [
    "plot_examples(label=0)"
   ]
  },
  {
   "cell_type": "code",
   "execution_count": 14,
   "id": "featured-genetics",
   "metadata": {
    "execution": {
     "iopub.execute_input": "2021-06-09T08:28:06.311328Z",
     "iopub.status.busy": "2021-06-09T08:28:06.307008Z",
     "iopub.status.idle": "2021-06-09T08:28:06.693064Z",
     "shell.execute_reply": "2021-06-09T08:28:06.693525Z",
     "shell.execute_reply.started": "2021-06-09T07:19:07.300262Z"
    },
    "papermill": {
     "duration": 0.430296,
     "end_time": "2021-06-09T08:28:06.693685",
     "exception": false,
     "start_time": "2021-06-09T08:28:06.263389",
     "status": "completed"
    },
    "tags": []
   },
   "outputs": [
    {
     "data": {
      "image/png": "[encoded data removed]",
      "text/plain": [
       "<Figure size 1800x864 with 5 Axes>"
      ]
     },
     "metadata": {
      "needs_background": "light"
     },
     "output_type": "display_data"
    }
   ],
   "source": [
    "plot_examples(label=1)"
   ]
  },
  {
   "cell_type": "code",
   "execution_count": 15,
   "id": "cultural-holiday",
   "metadata": {
    "execution": {
     "iopub.execute_input": "2021-06-09T08:28:06.755381Z",
     "iopub.status.busy": "2021-06-09T08:28:06.754604Z",
     "iopub.status.idle": "2021-06-09T08:28:06.989810Z",
     "shell.execute_reply": "2021-06-09T08:28:06.990218Z",
     "shell.execute_reply.started": "2021-06-09T07:19:11.851971Z"
    },
    "papermill": {
     "duration": 0.26795,
     "end_time": "2021-06-09T08:28:06.990359",
     "exception": false,
     "start_time": "2021-06-09T08:28:06.722409",
     "status": "completed"
    },
    "tags": []
   },
   "outputs": [
    {
     "data": {
      "image/png": "[encoded data removed]",
      "text/plain": [
       "<Figure size 864x432 with 2 Axes>"
      ]
     },
     "metadata": {
      "needs_background": "light"
     },
     "output_type": "display_data"
    }
   ],
   "source": [
    "plot_compare_distributions(train_labels, val_labels, title1='train labels', title2='val labels')"
   ]
  },
  {
   "cell_type": "code",
   "execution_count": 16,
   "id": "aggregate-bangkok",
   "metadata": {
    "execution": {
     "iopub.execute_input": "2021-06-09T08:28:07.060020Z",
     "iopub.status.busy": "2021-06-09T08:28:07.059330Z",
     "iopub.status.idle": "2021-06-09T08:28:07.072297Z",
     "shell.execute_reply": "2021-06-09T08:28:07.071830Z",
     "shell.execute_reply.started": "2021-06-09T07:19:16.823334Z"
    },
    "papermill": {
     "duration": 0.051344,
     "end_time": "2021-06-09T08:28:07.072410",
     "exception": false,
     "start_time": "2021-06-09T08:28:07.021066",
     "status": "completed"
    },
    "tags": []
   },
   "outputs": [],
   "source": [
    "class_weight = dict(zip(range(0, 7), (((data[data['Usage']=='Training']['emotion'].value_counts()).sort_index())/len(data[data['Usage']=='Training']['emotion'])).tolist()))"
   ]
  },
  {
   "cell_type": "code",
   "execution_count": 17,
   "id": "civilian-louisiana",
   "metadata": {
    "execution": {
     "iopub.execute_input": "2021-06-09T08:28:07.136480Z",
     "iopub.status.busy": "2021-06-09T08:28:07.135856Z",
     "iopub.status.idle": "2021-06-09T08:28:07.138993Z",
     "shell.execute_reply": "2021-06-09T08:28:07.139489Z",
     "shell.execute_reply.started": "2021-06-09T07:19:21.955344Z"
    },
    "papermill": {
     "duration": 0.037769,
     "end_time": "2021-06-09T08:28:07.139616",
     "exception": false,
     "start_time": "2021-06-09T08:28:07.101847",
     "status": "completed"
    },
    "tags": []
   },
   "outputs": [
    {
     "data": {
      "text/plain": [
       "{0: 0.1391549688251071,\n",
       " 1: 0.01518687519593159,\n",
       " 2: 0.14270786164617366,\n",
       " 3: 0.2513149186666202,\n",
       " 4: 0.16823992476226968,\n",
       " 5: 0.11045316799609878,\n",
       " 6: 0.17294228290779895}"
      ]
     },
     "execution_count": 17,
     "metadata": {},
     "output_type": "execute_result"
    }
   ],
   "source": [
    "class_weight"
   ]
  },
  {
   "cell_type": "code",
   "execution_count": 18,
   "id": "favorite-gross",
   "metadata": {
    "execution": {
     "iopub.execute_input": "2021-06-09T08:28:07.212318Z",
     "iopub.status.busy": "2021-06-09T08:28:07.211814Z",
     "iopub.status.idle": "2021-06-09T08:28:09.325387Z",
     "shell.execute_reply": "2021-06-09T08:28:09.325842Z",
     "shell.execute_reply.started": "2021-06-09T07:38:57.522208Z"
    },
    "papermill": {
     "duration": 2.157189,
     "end_time": "2021-06-09T08:28:09.325988",
     "exception": false,
     "start_time": "2021-06-09T08:28:07.168799",
     "status": "completed"
    },
    "tags": []
   },
   "outputs": [],
   "source": [
    "from keras.regularizers import l2\n",
    "from keras.callbacks import ReduceLROnPlateau, TensorBoard, EarlyStopping\n",
    "\n",
    "num_features = 64\n",
    "num_labels = 7\n",
    "width = 48\n",
    "height = 48\n",
    "model = models.Sequential()\n",
    "model.add(Conv2D(num_features, (3, 3), activation='relu', input_shape=(48, 48, 1),kernel_regularizer=l2(0.01)))\n",
    "model.add(Conv2D(num_features, (3, 3), activation='relu',padding='same'))\n",
    "model.add(MaxPool2D((2, 2), strides=(2, 2), padding='same'))\n",
    "model.add(BatchNormalization())\n",
    "model.add(Dropout(0.5))\n",
    "\n",
    "model.add(Conv2D(2*num_features, (3, 3), activation='relu',padding='same'))\n",
    "model.add(MaxPool2D((2, 2), strides=(2, 2), padding='same'))\n",
    "model.add(BatchNormalization())\n",
    "model.add(Conv2D(2*num_features, (3, 3), activation='relu',padding='same'))\n",
    "model.add(MaxPool2D((2,2), strides=(2, 2), padding='same'))\n",
    "model.add(BatchNormalization())\n",
    "model.add(Dropout(0.5))\n",
    "\n",
    "model.add(Conv2D(2*2*num_features, (3, 3), activation='relu',padding='same'))\n",
    "model.add(MaxPool2D((2,2), strides=(2, 2), padding='same'))\n",
    "model.add(BatchNormalization())\n",
    "model.add(Conv2D(2*2*num_features, (3, 3), activation='relu',padding='same'))\n",
    "model.add(MaxPool2D((2,2), strides=(2, 2), padding='same'))\n",
    "model.add(BatchNormalization())\n",
    "model.add(Dropout(0.5))\n",
    "\n",
    "model.add(Conv2D(2*2*2*num_features, (3, 3), activation='relu',padding='same'))\n",
    "model.add(MaxPool2D((2,2), strides=(2, 2), padding='same'))\n",
    "model.add(BatchNormalization())\n",
    "model.add(Conv2D(2*2*2*num_features, (3, 3), activation='relu',padding='same'))\n",
    "model.add(MaxPool2D((2,2), strides=(2, 2), padding='same'))\n",
    "model.add(BatchNormalization())\n",
    "model.add(Dropout(0.5))\n",
    "\n",
    "model.add(Flatten())\n",
    "model.add(Dense(2*2*2*num_features, activation='relu'))\n",
    "model.add(Dropout(0.4))\n",
    "model.add(Dense(2*2*num_features, activation='relu'))\n",
    "model.add(Dropout(0.4))\n",
    "model.add(Dense(2*num_features, activation='relu'))\n",
    "model.add(Dropout(0.5))\n",
    "model.add(Dense(7, activation='softmax'))"
   ]
  },
  {
   "cell_type": "code",
   "execution_count": 19,
   "id": "hourly-blogger",
   "metadata": {
    "execution": {
     "iopub.execute_input": "2021-06-09T08:28:09.396598Z",
     "iopub.status.busy": "2021-06-09T08:28:09.395808Z",
     "iopub.status.idle": "2021-06-09T08:28:09.401775Z",
     "shell.execute_reply": "2021-06-09T08:28:09.401336Z",
     "shell.execute_reply.started": "2021-06-09T07:53:53.868520Z"
    },
    "papermill": {
     "duration": 0.046251,
     "end_time": "2021-06-09T08:28:09.401882",
     "exception": false,
     "start_time": "2021-06-09T08:28:09.355631",
     "status": "completed"
    },
    "tags": []
   },
   "outputs": [],
   "source": [
    "from keras.losses import categorical_crossentropy\n",
    "\n",
    "model.compile(loss=categorical_crossentropy,\n",
    "              optimizer=Adam(lr=0.001, beta_1=0.9, beta_2=0.999, epsilon=1e-7),\n",
    "              metrics=['accuracy'])"
   ]
  },
  {
   "cell_type": "code",
   "execution_count": 20,
   "id": "aboriginal-evening",
   "metadata": {
    "execution": {
     "iopub.execute_input": "2021-06-09T08:28:09.463351Z",
     "iopub.status.busy": "2021-06-09T08:28:09.462121Z",
     "iopub.status.idle": "2021-06-09T08:28:09.464420Z",
     "shell.execute_reply": "2021-06-09T08:28:09.464806Z",
     "shell.execute_reply.started": "2021-06-09T07:53:56.051740Z"
    },
    "papermill": {
     "duration": 0.034487,
     "end_time": "2021-06-09T08:28:09.464923",
     "exception": false,
     "start_time": "2021-06-09T08:28:09.430436",
     "status": "completed"
    },
    "tags": []
   },
   "outputs": [],
   "source": [
    "lr_reducer = ReduceLROnPlateau(monitor='val_loss', factor=0.9, patience=3, verbose=1)"
   ]
  },
  {
   "cell_type": "code",
   "execution_count": null,
   "id": "complimentary-chance",
   "metadata": {
    "execution": {
     "iopub.execute_input": "2021-06-09T07:52:36.803714Z",
     "iopub.status.busy": "2021-06-09T07:52:36.803337Z",
     "iopub.status.idle": "2021-06-09T07:52:36.810398Z",
     "shell.execute_reply": "2021-06-09T07:52:36.808768Z",
     "shell.execute_reply.started": "2021-06-09T07:52:36.803666Z"
    },
    "papermill": {
     "duration": 0.027801,
     "end_time": "2021-06-09T08:28:09.520978",
     "exception": false,
     "start_time": "2021-06-09T08:28:09.493177",
     "status": "completed"
    },
    "tags": []
   },
   "outputs": [],
   "source": []
  },
  {
   "cell_type": "code",
   "execution_count": 21,
   "id": "threaded-kruger",
   "metadata": {
    "execution": {
     "iopub.execute_input": "2021-06-09T08:28:09.900651Z",
     "iopub.status.busy": "2021-06-09T08:28:09.899878Z",
     "iopub.status.idle": "2021-06-09T08:28:09.903888Z",
     "shell.execute_reply": "2021-06-09T08:28:09.903447Z",
     "shell.execute_reply.started": "2021-06-09T07:58:36.664709Z"
    },
    "papermill": {
     "duration": 0.35498,
     "end_time": "2021-06-09T08:28:09.904005",
     "exception": false,
     "start_time": "2021-06-09T08:28:09.549025",
     "status": "completed"
    },
    "tags": []
   },
   "outputs": [],
   "source": [
    "tensorboard = TensorBoard(log_dir='/kaggle/working/')"
   ]
  },
  {
   "cell_type": "code",
   "execution_count": 22,
   "id": "numerical-recorder",
   "metadata": {
    "execution": {
     "iopub.execute_input": "2021-06-09T08:28:09.965694Z",
     "iopub.status.busy": "2021-06-09T08:28:09.964483Z",
     "iopub.status.idle": "2021-06-09T08:28:09.967193Z",
     "shell.execute_reply": "2021-06-09T08:28:09.966752Z",
     "shell.execute_reply.started": "2021-06-09T07:58:39.605428Z"
    },
    "papermill": {
     "duration": 0.03488,
     "end_time": "2021-06-09T08:28:09.967298",
     "exception": false,
     "start_time": "2021-06-09T08:28:09.932418",
     "status": "completed"
    },
    "tags": []
   },
   "outputs": [],
   "source": [
    "early_stopper = EarlyStopping(monitor='val_loss', min_delta=0, patience=8, verbose=1, mode='auto')"
   ]
  },
  {
   "cell_type": "code",
   "execution_count": 23,
   "id": "uniform-florida",
   "metadata": {
    "execution": {
     "iopub.execute_input": "2021-06-09T08:28:10.027061Z",
     "iopub.status.busy": "2021-06-09T08:28:10.026562Z",
     "iopub.status.idle": "2021-06-09T08:28:10.331686Z",
     "shell.execute_reply": "2021-06-09T08:28:10.331237Z",
     "shell.execute_reply.started": "2021-06-09T07:58:41.380344Z"
    },
    "papermill": {
     "duration": 0.336429,
     "end_time": "2021-06-09T08:28:10.331810",
     "exception": false,
     "start_time": "2021-06-09T08:28:09.995381",
     "status": "completed"
    },
    "tags": []
   },
   "outputs": [
    {
     "ename": "NameError",
     "evalue": "name 'MODELPATH' is not defined",
     "output_type": "error",
     "traceback": [
      "\u001b[0;31m---------------------------------------------------------------------------\u001b[0m",
      "\u001b[0;31mNameError\u001b[0m                                 Traceback (most recent call last)",
      "\u001b[0;32m<ipython-input-23-40717fed6398>\u001b[0m in \u001b[0;36m<module>\u001b[0;34m\u001b[0m\n\u001b[1;32m      1\u001b[0m \u001b[0;32mfrom\u001b[0m \u001b[0mkeras\u001b[0m\u001b[0;34m.\u001b[0m\u001b[0mcallbacks\u001b[0m \u001b[0;32mimport\u001b[0m \u001b[0mModelCheckpoint\u001b[0m\u001b[0;34m\u001b[0m\u001b[0;34m\u001b[0m\u001b[0m\n\u001b[0;32m----> 2\u001b[0;31m \u001b[0mcheckpointer\u001b[0m \u001b[0;34m=\u001b[0m \u001b[0mModelCheckpoint\u001b[0m\u001b[0;34m(\u001b[0m\u001b[0mMODELPATH\u001b[0m\u001b[0;34m,\u001b[0m \u001b[0mmonitor\u001b[0m\u001b[0;34m=\u001b[0m\u001b[0;34m'val_loss'\u001b[0m\u001b[0;34m,\u001b[0m \u001b[0mverbose\u001b[0m\u001b[0;34m=\u001b[0m\u001b[0;36m1\u001b[0m\u001b[0;34m,\u001b[0m \u001b[0msave_best_only\u001b[0m\u001b[0;34m=\u001b[0m\u001b[0;32mTrue\u001b[0m\u001b[0;34m)\u001b[0m\u001b[0;34m\u001b[0m\u001b[0;34m\u001b[0m\u001b[0m\n\u001b[0m",
      "\u001b[0;31mNameError\u001b[0m: name 'MODELPATH' is not defined"
     ]
    }
   ],
   "source": [
    "from keras.callbacks import ModelCheckpoint\n",
    "checkpointer = ModelCheckpoint(MODELPATH, monitor='val_loss', verbose=1, save_best_only=True)"
   ]
  },
  {
   "cell_type": "code",
   "execution_count": 24,
   "id": "measured-property",
   "metadata": {
    "execution": {
     "iopub.execute_input": "2021-06-09T08:28:10.397295Z",
     "iopub.status.busy": "2021-06-09T08:28:10.394713Z",
     "iopub.status.idle": "2021-06-09T08:28:10.413052Z",
     "shell.execute_reply": "2021-06-09T08:28:10.412662Z",
     "shell.execute_reply.started": "2021-06-09T07:52:49.093426Z"
    },
    "papermill": {
     "duration": 0.052107,
     "end_time": "2021-06-09T08:28:10.413186",
     "exception": false,
     "start_time": "2021-06-09T08:28:10.361079",
     "status": "completed"
    },
    "tags": []
   },
   "outputs": [
    {
     "name": "stdout",
     "output_type": "stream",
     "text": [
      "Model: \"sequential\"\n",
      "_________________________________________________________________\n",
      "Layer (type)                 Output Shape              Param #   \n",
      "=================================================================\n",
      "conv2d (Conv2D)              (None, 46, 46, 64)        640       \n",
      "_________________________________________________________________\n",
      "conv2d_1 (Conv2D)            (None, 46, 46, 64)        36928     \n",
      "_________________________________________________________________\n",
      "max_pooling2d (MaxPooling2D) (None, 23, 23, 64)        0         \n",
      "_________________________________________________________________\n",
      "batch_normalization (BatchNo (None, 23, 23, 64)        256       \n",
      "_________________________________________________________________\n",
      "dropout (Dropout)            (None, 23, 23, 64)        0         \n",
      "_________________________________________________________________\n",
      "conv2d_2 (Conv2D)            (None, 23, 23, 128)       73856     \n",
      "_________________________________________________________________\n",
      "max_pooling2d_1 (MaxPooling2 (None, 12, 12, 128)       0         \n",
      "_________________________________________________________________\n",
      "batch_normalization_1 (Batch (None, 12, 12, 128)       512       \n",
      "_________________________________________________________________\n",
      "conv2d_3 (Conv2D)            (None, 12, 12, 128)       147584    \n",
      "_________________________________________________________________\n",
      "max_pooling2d_2 (MaxPooling2 (None, 6, 6, 128)         0         \n",
      "_________________________________________________________________\n",
      "batch_normalization_2 (Batch (None, 6, 6, 128)         512       \n",
      "_________________________________________________________________\n",
      "dropout_1 (Dropout)          (None, 6, 6, 128)         0         \n",
      "_________________________________________________________________\n",
      "conv2d_4 (Conv2D)            (None, 6, 6, 256)         295168    \n",
      "_________________________________________________________________\n",
      "max_pooling2d_3 (MaxPooling2 (None, 3, 3, 256)         0         \n",
      "_________________________________________________________________\n",
      "batch_normalization_3 (Batch (None, 3, 3, 256)         1024      \n",
      "_________________________________________________________________\n",
      "conv2d_5 (Conv2D)            (None, 3, 3, 256)         590080    \n",
      "_________________________________________________________________\n",
      "max_pooling2d_4 (MaxPooling2 (None, 2, 2, 256)         0         \n",
      "_________________________________________________________________\n",
      "batch_normalization_4 (Batch (None, 2, 2, 256)         1024      \n",
      "_________________________________________________________________\n",
      "dropout_2 (Dropout)          (None, 2, 2, 256)         0         \n",
      "_________________________________________________________________\n",
      "conv2d_6 (Conv2D)            (None, 2, 2, 512)         1180160   \n",
      "_________________________________________________________________\n",
      "max_pooling2d_5 (MaxPooling2 (None, 1, 1, 512)         0         \n",
      "_________________________________________________________________\n",
      "batch_normalization_5 (Batch (None, 1, 1, 512)         2048      \n",
      "_________________________________________________________________\n",
      "conv2d_7 (Conv2D)            (None, 1, 1, 512)         2359808   \n",
      "_________________________________________________________________\n",
      "max_pooling2d_6 (MaxPooling2 (None, 1, 1, 512)         0         \n",
      "_________________________________________________________________\n",
      "batch_normalization_6 (Batch (None, 1, 1, 512)         2048      \n",
      "_________________________________________________________________\n",
      "dropout_3 (Dropout)          (None, 1, 1, 512)         0         \n",
      "_________________________________________________________________\n",
      "flatten (Flatten)            (None, 512)               0         \n",
      "_________________________________________________________________\n",
      "dense (Dense)                (None, 512)               262656    \n",
      "_________________________________________________________________\n",
      "dropout_4 (Dropout)          (None, 512)               0         \n",
      "_________________________________________________________________\n",
      "dense_1 (Dense)              (None, 256)               131328    \n",
      "_________________________________________________________________\n",
      "dropout_5 (Dropout)          (None, 256)               0         \n",
      "_________________________________________________________________\n",
      "dense_2 (Dense)              (None, 128)               32896     \n",
      "_________________________________________________________________\n",
      "dropout_6 (Dropout)          (None, 128)               0         \n",
      "_________________________________________________________________\n",
      "dense_3 (Dense)              (None, 7)                 903       \n",
      "=================================================================\n",
      "Total params: 5,119,431\n",
      "Trainable params: 5,115,719\n",
      "Non-trainable params: 3,712\n",
      "_________________________________________________________________\n"
     ]
    }
   ],
   "source": [
    "model.summary()"
   ]
  },
  {
   "cell_type": "code",
   "execution_count": 25,
   "id": "compatible-annex",
   "metadata": {
    "execution": {
     "iopub.execute_input": "2021-06-09T08:28:10.475246Z",
     "iopub.status.busy": "2021-06-09T08:28:10.474654Z",
     "iopub.status.idle": "2021-06-09T08:54:35.759401Z",
     "shell.execute_reply": "2021-06-09T08:54:35.759970Z",
     "shell.execute_reply.started": "2021-06-09T08:02:03.952419Z"
    },
    "papermill": {
     "duration": 1585.3182,
     "end_time": "2021-06-09T08:54:35.760159",
     "exception": false,
     "start_time": "2021-06-09T08:28:10.441959",
     "status": "completed"
    },
    "tags": []
   },
   "outputs": [
    {
     "name": "stdout",
     "output_type": "stream",
     "text": [
      "Epoch 1/100\n",
      "449/449 [==============================] - 51s 102ms/step - loss: 0.3476 - accuracy: 0.2204 - val_loss: 1.8355 - val_accuracy: 0.2449\n",
      "Epoch 2/100\n",
      "449/449 [==============================] - 45s 100ms/step - loss: 0.2943 - accuracy: 0.2522 - val_loss: 2.9566 - val_accuracy: 0.2449\n",
      "Epoch 3/100\n",
      "449/449 [==============================] - 45s 101ms/step - loss: 0.2667 - accuracy: 0.3194 - val_loss: 1.6301 - val_accuracy: 0.3575\n",
      "Epoch 4/100\n",
      "449/449 [==============================] - 45s 101ms/step - loss: 0.2468 - accuracy: 0.3688 - val_loss: 1.5432 - val_accuracy: 0.4241\n",
      "Epoch 5/100\n",
      "449/449 [==============================] - 45s 101ms/step - loss: 0.2320 - accuracy: 0.4072 - val_loss: 1.9317 - val_accuracy: 0.3082\n",
      "Epoch 6/100\n",
      "449/449 [==============================] - 45s 101ms/step - loss: 0.2253 - accuracy: 0.4335 - val_loss: 1.4128 - val_accuracy: 0.4606\n",
      "Epoch 7/100\n",
      "449/449 [==============================] - 45s 101ms/step - loss: 0.2184 - accuracy: 0.4529 - val_loss: 1.5860 - val_accuracy: 0.4597\n",
      "Epoch 8/100\n",
      "449/449 [==============================] - 45s 101ms/step - loss: 0.2104 - accuracy: 0.4747 - val_loss: 1.3490 - val_accuracy: 0.4817\n",
      "Epoch 9/100\n",
      "449/449 [==============================] - 45s 101ms/step - loss: 0.2042 - accuracy: 0.4898 - val_loss: 1.4038 - val_accuracy: 0.4932\n",
      "Epoch 10/100\n",
      "449/449 [==============================] - 45s 100ms/step - loss: 0.2019 - accuracy: 0.4931 - val_loss: 1.3489 - val_accuracy: 0.4921\n",
      "Epoch 11/100\n",
      "449/449 [==============================] - 45s 100ms/step - loss: 0.1981 - accuracy: 0.5072 - val_loss: 1.3763 - val_accuracy: 0.4812\n",
      "Epoch 12/100\n",
      "449/449 [==============================] - 45s 100ms/step - loss: 0.1954 - accuracy: 0.5179 - val_loss: 1.3975 - val_accuracy: 0.4726\n",
      "Epoch 13/100\n",
      "449/449 [==============================] - 45s 100ms/step - loss: 0.1900 - accuracy: 0.5255 - val_loss: 1.2693 - val_accuracy: 0.5149\n",
      "Epoch 14/100\n",
      "449/449 [==============================] - 45s 101ms/step - loss: 0.1839 - accuracy: 0.5467 - val_loss: 1.2539 - val_accuracy: 0.5316\n",
      "Epoch 15/100\n",
      "449/449 [==============================] - 45s 100ms/step - loss: 0.1847 - accuracy: 0.5479 - val_loss: 1.2427 - val_accuracy: 0.5141\n",
      "Epoch 16/100\n",
      "449/449 [==============================] - 45s 100ms/step - loss: 0.1812 - accuracy: 0.5551 - val_loss: 1.2400 - val_accuracy: 0.5383\n",
      "Epoch 17/100\n",
      "449/449 [==============================] - 45s 100ms/step - loss: 0.1777 - accuracy: 0.5645 - val_loss: 1.2045 - val_accuracy: 0.5539\n",
      "Epoch 18/100\n",
      "449/449 [==============================] - 45s 100ms/step - loss: 0.1743 - accuracy: 0.5776 - val_loss: 1.1952 - val_accuracy: 0.5623\n",
      "Epoch 19/100\n",
      "449/449 [==============================] - 45s 101ms/step - loss: 0.1691 - accuracy: 0.5884 - val_loss: 1.1634 - val_accuracy: 0.5840\n",
      "Epoch 20/100\n",
      "449/449 [==============================] - 45s 100ms/step - loss: 0.1660 - accuracy: 0.5918 - val_loss: 1.1791 - val_accuracy: 0.5587\n",
      "Epoch 21/100\n",
      "449/449 [==============================] - 45s 100ms/step - loss: 0.1648 - accuracy: 0.5999 - val_loss: 1.1386 - val_accuracy: 0.5798\n",
      "Epoch 22/100\n",
      "449/449 [==============================] - 45s 100ms/step - loss: 0.1615 - accuracy: 0.6076 - val_loss: 1.1360 - val_accuracy: 0.5782\n",
      "Epoch 23/100\n",
      "449/449 [==============================] - 45s 100ms/step - loss: 0.1593 - accuracy: 0.6125 - val_loss: 1.2287 - val_accuracy: 0.5539\n",
      "Epoch 24/100\n",
      "449/449 [==============================] - 45s 100ms/step - loss: 0.1583 - accuracy: 0.6132 - val_loss: 1.1907 - val_accuracy: 0.5631\n",
      "Epoch 25/100\n",
      "449/449 [==============================] - 45s 100ms/step - loss: 0.1543 - accuracy: 0.6260 - val_loss: 1.1685 - val_accuracy: 0.5729\n",
      "\n",
      "Epoch 00025: ReduceLROnPlateau reducing learning rate to 0.0009000000427477062.\n",
      "Epoch 26/100\n",
      "449/449 [==============================] - 45s 100ms/step - loss: 0.1521 - accuracy: 0.6286 - val_loss: 1.1776 - val_accuracy: 0.5821\n",
      "Epoch 27/100\n",
      "449/449 [==============================] - 45s 100ms/step - loss: 0.1481 - accuracy: 0.6379 - val_loss: 1.0808 - val_accuracy: 0.6172\n",
      "Epoch 28/100\n",
      "449/449 [==============================] - 45s 100ms/step - loss: 0.1435 - accuracy: 0.6558 - val_loss: 1.1582 - val_accuracy: 0.6010\n",
      "Epoch 29/100\n",
      "449/449 [==============================] - 45s 101ms/step - loss: 0.1462 - accuracy: 0.6456 - val_loss: 1.1478 - val_accuracy: 0.5876\n",
      "Epoch 30/100\n",
      "449/449 [==============================] - 45s 100ms/step - loss: 0.1417 - accuracy: 0.6572 - val_loss: 1.2013 - val_accuracy: 0.5681\n",
      "\n",
      "Epoch 00030: ReduceLROnPlateau reducing learning rate to 0.0008100000384729356.\n",
      "Epoch 31/100\n",
      "449/449 [==============================] - 45s 100ms/step - loss: 0.1380 - accuracy: 0.6625 - val_loss: 1.1154 - val_accuracy: 0.6135\n",
      "Epoch 32/100\n",
      "449/449 [==============================] - 45s 100ms/step - loss: 0.1350 - accuracy: 0.6747 - val_loss: 1.1016 - val_accuracy: 0.6199\n",
      "Epoch 33/100\n",
      "449/449 [==============================] - 45s 100ms/step - loss: 0.1310 - accuracy: 0.6819 - val_loss: 1.1213 - val_accuracy: 0.6199\n",
      "\n",
      "Epoch 00033: ReduceLROnPlateau reducing learning rate to 0.0007290000503417104.\n",
      "Epoch 34/100\n",
      "449/449 [==============================] - 45s 101ms/step - loss: 0.1313 - accuracy: 0.6857 - val_loss: 1.1203 - val_accuracy: 0.6211\n",
      "Epoch 35/100\n",
      "449/449 [==============================] - 45s 100ms/step - loss: 0.1271 - accuracy: 0.6932 - val_loss: 1.1067 - val_accuracy: 0.6227\n",
      "Epoch 00035: early stopping\n"
     ]
    }
   ],
   "source": [
    "history = model.fit(train_images, train_labels,\n",
    "                    validation_data=(val_images, val_labels),\n",
    "                    class_weight = class_weight,\n",
    "                    epochs=100,\n",
    "                    batch_size=64, callbacks=[lr_reducer, early_stopper])"
   ]
  },
  {
   "cell_type": "code",
   "execution_count": 26,
   "id": "dress-qatar",
   "metadata": {
    "execution": {
     "iopub.execute_input": "2021-06-09T08:54:43.950115Z",
     "iopub.status.busy": "2021-06-09T08:54:43.949222Z",
     "iopub.status.idle": "2021-06-09T08:54:49.217987Z",
     "shell.execute_reply": "2021-06-09T08:54:49.218434Z",
     "shell.execute_reply.started": "2021-06-09T08:24:08.171385Z"
    },
    "papermill": {
     "duration": 9.46181,
     "end_time": "2021-06-09T08:54:49.218592",
     "exception": false,
     "start_time": "2021-06-09T08:54:39.756782",
     "status": "completed"
    },
    "tags": []
   },
   "outputs": [
    {
     "name": "stdout",
     "output_type": "stream",
     "text": [
      "113/113 [==============================] - 5s 43ms/step - loss: 1.2043 - accuracy: 0.6113\n",
      "test caccuracy: 0.6113123297691345\n"
     ]
    }
   ],
   "source": [
    "test_loss, test_acc = model.evaluate(test_images, test_labels)\n",
    "print('test caccuracy:', test_acc)"
   ]
  },
  {
   "cell_type": "code",
   "execution_count": 27,
   "id": "designing-strap",
   "metadata": {
    "execution": {
     "iopub.execute_input": "2021-06-09T08:54:57.972514Z",
     "iopub.status.busy": "2021-06-09T08:54:57.971613Z",
     "iopub.status.idle": "2021-06-09T08:55:02.768840Z",
     "shell.execute_reply": "2021-06-09T08:55:02.768408Z",
     "shell.execute_reply.started": "2021-06-09T08:24:16.737486Z"
    },
    "papermill": {
     "duration": 8.80602,
     "end_time": "2021-06-09T08:55:02.768961",
     "exception": false,
     "start_time": "2021-06-09T08:54:53.962941",
     "status": "completed"
    },
    "tags": []
   },
   "outputs": [],
   "source": [
    "pred_test_labels = model.predict(test_images)"
   ]
  },
  {
   "cell_type": "code",
   "execution_count": 28,
   "id": "spatial-walnut",
   "metadata": {
    "execution": {
     "iopub.execute_input": "2021-06-09T08:55:10.790824Z",
     "iopub.status.busy": "2021-06-09T08:55:10.790111Z",
     "iopub.status.idle": "2021-06-09T08:55:10.792898Z",
     "shell.execute_reply": "2021-06-09T08:55:10.793303Z",
     "shell.execute_reply.started": "2021-06-09T08:24:25.658767Z"
    },
    "papermill": {
     "duration": 3.973095,
     "end_time": "2021-06-09T08:55:10.793432",
     "exception": false,
     "start_time": "2021-06-09T08:55:06.820337",
     "status": "completed"
    },
    "tags": []
   },
   "outputs": [
    {
     "data": {
      "text/plain": [
       "array([[1.2559642e-01, 6.8884424e-04, 4.9773786e-02, ..., 1.0885314e-01,\n",
       "        9.6713696e-03, 6.8620420e-01],\n",
       "       [1.4266702e-02, 3.5146461e-04, 8.9427149e-03, ..., 2.5468616e-02,\n",
       "        5.5239201e-03, 7.2598584e-02],\n",
       "       [6.5320677e-01, 3.0189562e-03, 7.4438974e-02, ..., 1.9583777e-01,\n",
       "        1.4334227e-04, 7.3231190e-02],\n",
       "       ...,\n",
       "       [1.3627483e-01, 2.8312884e-03, 1.3865663e-01, ..., 2.9525250e-01,\n",
       "        2.1486808e-02, 1.4777280e-01],\n",
       "       [2.8139764e-01, 2.7235157e-03, 9.0689234e-02, ..., 3.3126006e-01,\n",
       "        1.9187004e-03, 2.9091278e-01],\n",
       "       [1.9329479e-02, 4.0386429e-05, 2.1184277e-02, ..., 5.7262838e-02,\n",
       "        6.1010622e-04, 9.0138161e-01]], dtype=float32)"
      ]
     },
     "execution_count": 28,
     "metadata": {},
     "output_type": "execute_result"
    }
   ],
   "source": [
    "pred_test_labels"
   ]
  },
  {
   "cell_type": "code",
   "execution_count": 29,
   "id": "international-public",
   "metadata": {
    "execution": {
     "iopub.execute_input": "2021-06-09T08:55:19.082219Z",
     "iopub.status.busy": "2021-06-09T08:55:19.081445Z",
     "iopub.status.idle": "2021-06-09T08:55:19.230930Z",
     "shell.execute_reply": "2021-06-09T08:55:19.230534Z",
     "shell.execute_reply.started": "2021-06-09T08:24:28.070775Z"
    },
    "papermill": {
     "duration": 4.209639,
     "end_time": "2021-06-09T08:55:19.231042",
     "exception": false,
     "start_time": "2021-06-09T08:55:15.021403",
     "status": "completed"
    },
    "tags": []
   },
   "outputs": [
    {
     "data": {
      "image/png": "[encoded data removed]",
      "text/plain": [
       "<Figure size 432x288 with 1 Axes>"
      ]
     },
     "metadata": {
      "needs_background": "light"
     },
     "output_type": "display_data"
    }
   ],
   "source": [
    "loss = history.history['loss']\n",
    "loss_val = history.history['val_loss']\n",
    "epochs = range(1, len(loss)+1)\n",
    "plt.plot(epochs, loss, 'bo', label='loss_train')\n",
    "plt.plot(epochs, loss_val, 'b', label='loss_val')\n",
    "plt.title('value of the loss function')\n",
    "plt.xlabel('epochs')\n",
    "plt.ylabel('value of the loss function')\n",
    "plt.legend()\n",
    "plt.grid()\n",
    "plt.show()"
   ]
  },
  {
   "cell_type": "code",
   "execution_count": 30,
   "id": "thermal-fountain",
   "metadata": {
    "execution": {
     "iopub.execute_input": "2021-06-09T08:55:27.999014Z",
     "iopub.status.busy": "2021-06-09T08:55:27.989281Z",
     "iopub.status.idle": "2021-06-09T08:55:28.111264Z",
     "shell.execute_reply": "2021-06-09T08:55:28.111677Z",
     "shell.execute_reply.started": "2021-06-09T08:24:35.936707Z"
    },
    "papermill": {
     "duration": 4.823294,
     "end_time": "2021-06-09T08:55:28.111818",
     "exception": false,
     "start_time": "2021-06-09T08:55:23.288524",
     "status": "completed"
    },
    "tags": []
   },
   "outputs": [
    {
     "data": {
      "image/png": "[encoded data removed]",
      "text/plain": [
       "<Figure size 432x288 with 1 Axes>"
      ]
     },
     "metadata": {
      "needs_background": "light"
     },
     "output_type": "display_data"
    }
   ],
   "source": [
    "acc = history.history['accuracy']\n",
    "acc_val = history.history['val_accuracy']\n",
    "epochs = range(1, len(loss)+1)\n",
    "plt.plot(epochs, acc, 'bo', label='accuracy_train')\n",
    "plt.plot(epochs, acc_val, 'b', label='accuracy_val')\n",
    "plt.title('accuracy')\n",
    "plt.xlabel('epochs')\n",
    "plt.ylabel('value of accuracy')\n",
    "plt.legend()\n",
    "plt.grid()\n",
    "plt.show()"
   ]
  },
  {
   "cell_type": "code",
   "execution_count": 31,
   "id": "turkish-eating",
   "metadata": {
    "execution": {
     "iopub.execute_input": "2021-06-09T08:55:36.537332Z",
     "iopub.status.busy": "2021-06-09T08:55:36.536746Z",
     "iopub.status.idle": "2021-06-09T08:55:36.783064Z",
     "shell.execute_reply": "2021-06-09T08:55:36.782339Z",
     "shell.execute_reply.started": "2021-06-09T08:26:00.010456Z"
    },
    "papermill": {
     "duration": 4.667127,
     "end_time": "2021-06-09T08:55:36.783203",
     "exception": false,
     "start_time": "2021-06-09T08:55:32.116076",
     "status": "completed"
    },
    "tags": []
   },
   "outputs": [
    {
     "data": {
      "image/png": "[encoded data removed]",
      "text/plain": [
       "<Figure size 864x432 with 2 Axes>"
      ]
     },
     "metadata": {
      "needs_background": "light"
     },
     "output_type": "display_data"
    }
   ],
   "source": [
    "plot_image_and_emotion(test_image_array, test_image_label, pred_test_labels, 3)"
   ]
  },
  {
   "cell_type": "code",
   "execution_count": 32,
   "id": "colored-anatomy",
   "metadata": {
    "execution": {
     "iopub.execute_input": "2021-06-09T08:55:44.888281Z",
     "iopub.status.busy": "2021-06-09T08:55:44.887452Z",
     "iopub.status.idle": "2021-06-09T08:55:45.061139Z",
     "shell.execute_reply": "2021-06-09T08:55:45.060617Z",
     "shell.execute_reply.started": "2021-06-09T08:27:30.358618Z"
    },
    "papermill": {
     "duration": 4.274988,
     "end_time": "2021-06-09T08:55:45.061276",
     "exception": false,
     "start_time": "2021-06-09T08:55:40.786288",
     "status": "completed"
    },
    "tags": []
   },
   "outputs": [],
   "source": [
    "model.save('model.h5')"
   ]
  },
  {
   "cell_type": "code",
   "execution_count": null,
   "id": "adjusted-stanford",
   "metadata": {
    "papermill": {
     "duration": 4.099785,
     "end_time": "2021-06-09T08:55:53.640329",
     "exception": false,
     "start_time": "2021-06-09T08:55:49.540544",
     "status": "completed"
    },
    "tags": []
   },
   "outputs": [],
   "source": []
  }
 ],
 "metadata": {
  "kernelspec": {
   "display_name": "Python 3",
   "language": "python",
   "name": "python3"
  },
  "language_info": {
   "codemirror_mode": {
    "name": "ipython",
    "version": 3
   },
   "file_extension": ".py",
   "mimetype": "text/x-python",
   "name": "python",
   "nbconvert_exporter": "python",
   "pygments_lexer": "ipython3",
   "version": "3.7.10"
  },
  "papermill": {
   "default_parameters": {},
   "duration": 1696.037667,
   "end_time": "2021-06-09T08:56:00.503959",
   "environment_variables": {},
   "exception": null,
   "input_path": "__notebook__.ipynb",
   "output_path": "__notebook__.ipynb",
   "parameters": {},
   "start_time": "2021-06-09T08:27:44.466292",
   "version": "2.3.3"
  }
 },
 "nbformat": 4,
 "nbformat_minor": 5
}
